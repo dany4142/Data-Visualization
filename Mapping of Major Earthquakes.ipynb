{
 "cells": [
  {
   "cell_type": "markdown",
   "metadata": {},
   "source": [
    "# Live Feed of Major Earthquakes in the World"
   ]
  },
  {
   "cell_type": "markdown",
   "metadata": {},
   "source": [
    "This Project fetches real time monthly data from the US Government's Webiste on Earthquakes \"earthquake.usgs.gov\" and plots a visualization signifying the magnitude of shocks and exact places o earthquake. The standard format import format is geojson which is then translated into insights. "
   ]
  },
  {
   "cell_type": "code",
   "execution_count": 33,
   "metadata": {},
   "outputs": [],
   "source": [
    "#importing relevant libraries\n",
    "import urllib.request, urllib.error, urllib.parse\n",
    "import json \n",
    "import ssl\n",
    "from plotly.graph_objects import Scattergeo, Layout\n",
    "from plotly import offline"
   ]
  },
  {
   "cell_type": "code",
   "execution_count": 34,
   "metadata": {},
   "outputs": [],
   "source": [
    "#ignoring the ssl certificates error\n",
    "\n",
    "ctx = ssl.create_default_context()\n",
    "ctx.check_hostname = False\n",
    "ctx.verify_mode = ssl.CERT_NONE"
   ]
  },
  {
   "cell_type": "code",
   "execution_count": 35,
   "metadata": {},
   "outputs": [],
   "source": [
    "#opening the source of real-time data\n",
    "source = urllib.request.urlopen('https://earthquake.usgs.gov/earthquakes/feed/v1.0/summary/significant_month.geojson')\n",
    "data = source.read().decode()\n",
    "\n",
    "#Exploring the format and content of json format\n",
    "js = json.loads(data)\n",
    "    \n",
    "#Having a look at the json Format\n",
    "#print(json.dumps(js,indent = 4))\n",
    "\n",
    "#Extracting a list of all relevant data points, i.e. magnitude, the longitude and latitude\n",
    "magnitude = [x['properties']['mag'] for x in js['features']]\n",
    "longitude = [x['geometry']['coordinates'][0] for x in js['features']]\n",
    "title = [x['properties']['title'] for x in js['features']]\n",
    "latitude = [x['geometry']['coordinates'][1] for x in js['features']]"
   ]
  },
  {
   "cell_type": "code",
   "execution_count": 45,
   "metadata": {},
   "outputs": [
    {
     "name": "stderr",
     "output_type": "stream",
     "text": [
      "C:\\Users\\Saad Masood\\Anaconda3\\lib\\site-packages\\plotly\\offline\\offline.py:562: UserWarning:\n",
      "\n",
      "Your filename `Earthquake Visualization` didn't end with .html. Adding .html to the end of your file.\n",
      "\n"
     ]
    },
    {
     "data": {
      "text/plain": [
       "'Earthquake Visualization.html'"
      ]
     },
     "execution_count": 45,
     "metadata": {},
     "output_type": "execute_result"
    }
   ],
   "source": [
    "#Plotting the Data on World Map\n",
    "data = [Scattergeo(lon=longitude, lat=latitude, text=title,\n",
    "        marker= dict(size=[5*mag for mag in magnitude], color=magnitude, colorscale='Viridis',\n",
    "                    reversescale=True, colorbar=dict(title='Magnitude')))]\n",
    "layout ={'title':'An Overview of the Major EarthQuakes in Last Month','titlefont':{'size':24}}\n",
    "fig={'data':data,'layout':layout}\n",
    "\n",
    "offline.plot(fig, filename='Earthquake Visualization')"
   ]
  },
  {
   "cell_type": "code",
   "execution_count": null,
   "metadata": {},
   "outputs": [],
   "source": []
  }
 ],
 "metadata": {
  "kernelspec": {
   "display_name": "Python 3",
   "language": "python",
   "name": "python3"
  },
  "language_info": {
   "codemirror_mode": {
    "name": "ipython",
    "version": 3
   },
   "file_extension": ".py",
   "mimetype": "text/x-python",
   "name": "python",
   "nbconvert_exporter": "python",
   "pygments_lexer": "ipython3",
   "version": "3.7.4"
  }
 },
 "nbformat": 4,
 "nbformat_minor": 2
}
